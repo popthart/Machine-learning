{
  "nbformat": 4,
  "nbformat_minor": 0,
  "metadata": {
    "colab": {
      "provenance": [],
      "authorship_tag": "ABX9TyN2kDQT4OMX8zJiKnfLI9i9",
      "include_colab_link": true
    },
    "kernelspec": {
      "name": "python3",
      "display_name": "Python 3"
    },
    "language_info": {
      "name": "python"
    }
  },
  "cells": [
    {
      "cell_type": "markdown",
      "metadata": {
        "id": "view-in-github",
        "colab_type": "text"
      },
      "source": [
        "<a href=\"https://colab.research.google.com/github/popthart/Machine-learning/blob/cs-homework/week6hw.ipynb\" target=\"_parent\"><img src=\"https://colab.research.google.com/assets/colab-badge.svg\" alt=\"Open In Colab\"/></a>"
      ]
    },
    {
      "cell_type": "code",
      "execution_count": 1,
      "metadata": {
        "id": "rc1U9J7dP1VK"
      },
      "outputs": [],
      "source": [
        "from sklearn.datasets import load_iris\n",
        "from sklearn.cluster import KMeans\n",
        "import matplotlib.pyplot as plt"
      ]
    },
    {
      "cell_type": "code",
      "source": [
        "iris = load_iris()\n",
        "X = iris.data"
      ],
      "metadata": {
        "id": "vLKCy6_iU_ti"
      },
      "execution_count": 2,
      "outputs": []
    },
    {
      "cell_type": "code",
      "source": [
        "inertia = []\n",
        "k_values = range(1,11)"
      ],
      "metadata": {
        "id": "TPHHRcHSVEr1"
      },
      "execution_count": 3,
      "outputs": []
    },
    {
      "cell_type": "code",
      "source": [
        "inertia = []"
      ],
      "metadata": {
        "id": "PTEb2Fd7YCDS"
      },
      "execution_count": 8,
      "outputs": []
    },
    {
      "cell_type": "code",
      "source": [
        "for k in k_values:\n",
        "    kmeans = KMeans(n_clusters=k, n_init=10, random_state=42)\n",
        "    kmeans.fit(X)\n",
        "    inertia.append(kmeans.inertia_)"
      ],
      "metadata": {
        "id": "vBRtkndDVLAg"
      },
      "execution_count": 9,
      "outputs": []
    },
    {
      "cell_type": "code",
      "source": [
        "plt.figure(figsize=(8, 5))\n",
        "plt.plot(k_values, inertia, 'bo-')\n",
        "plt.xlabel('Number of clusters (k)')\n",
        "plt.ylabel('Inertia')\n",
        "plt.title('Elbow method for optimal k')\n",
        "plt.grid(True)\n",
        "plt.show()"
      ],
      "metadata": {
        "colab": {
          "base_uri": "https://localhost:8080/",
          "height": 487
        },
        "id": "yGCmZHOAVktp",
        "outputId": "90bda745-a411-4394-bb91-e07c6fc6a928"
      },
      "execution_count": 10,
      "outputs": [
        {
          "output_type": "display_data",
          "data": {
            "text/plain": [
              "<Figure size 800x500 with 1 Axes>"
            ],
            "image/png": "[encoded data removed]"
          },
          "metadata": {}
        }
      ]
    },
    {
      "cell_type": "code",
      "source": [
        "import time\n",
        "import numpy as np\n",
        "from sklearn.model_selection import train_test_split\n",
        "from sklearn.preprocessing import StandardScaler\n",
        "from sklearn.decomposition import PCA\n",
        "from sklearn.linear_model import LogisticRegression\n",
        "from sklearn.metrics import accuracy_score"
      ],
      "metadata": {
        "id": "SF4adc-oYfz2"
      },
      "execution_count": 16,
      "outputs": []
    },
    {
      "cell_type": "code",
      "source": [
        "from sklearn.datasets import fetch_openml\n",
        "X, y = fetch_openml('mnist_784', version=1, return_X_y=True, parser='auto')"
      ],
      "metadata": {
        "id": "b2dPSHk2aI6f"
      },
      "execution_count": 17,
      "outputs": []
    },
    {
      "cell_type": "code",
      "source": [
        "X_train, X_test, y_train, y_test = train_test_split(X, y, test_size=0.2, random_state=42)"
      ],
      "metadata": {
        "id": "JPFTBBjSfA6y"
      },
      "execution_count": 19,
      "outputs": []
    },
    {
      "cell_type": "code",
      "source": [
        "scaler = StandardScaler()\n",
        "X_train_scaled = scaler.fit_transform(X_train)\n",
        "X_test_scaled = scaler.transform(X_test)"
      ],
      "metadata": {
        "id": "x7nhhTBBaVK0"
      },
      "execution_count": 20,
      "outputs": []
    },
    {
      "cell_type": "code",
      "source": [
        "logisticRegression = LogisticRegression(solver='lbfgs', max_iter = 1000)"
      ],
      "metadata": {
        "id": "In-9VKf0hL6O"
      },
      "execution_count": 25,
      "outputs": []
    },
    {
      "cell_type": "code",
      "source": [
        "start_time_wout_pca = time.time()\n",
        "logisticRegression.fit(X_train_scaled, y_train)\n",
        "y_pred_wout_pca = logisticRegression.predict(X_test_scaled)\n",
        "end_time_wout_pca = time.time()"
      ],
      "metadata": {
        "id": "kHQX2-NOl1fr"
      },
      "execution_count": 26,
      "outputs": []
    },
    {
      "cell_type": "code",
      "source": [
        "accuracy_wout_pca = accuracy_score(y_test, y_pred_wout_pca)\n",
        "time_wout_pca = end_time_wout_pca - start_time_wout_pca"
      ],
      "metadata": {
        "id": "i769kwN1niPK"
      },
      "execution_count": 29,
      "outputs": []
    },
    {
      "cell_type": "code",
      "source": [
        "print(f'Logistic Regression with no PCA: Accuracy = {accuracy_wout_pca:.4f}, Time = {time_wout_pca:.2f} seconds')"
      ],
      "metadata": {
        "colab": {
          "base_uri": "https://localhost:8080/"
        },
        "id": "FrahF6AQoE67",
        "outputId": "dec34c5e-cf3b-4a0f-9112-57303697946f"
      },
      "execution_count": 30,
      "outputs": [
        {
          "output_type": "stream",
          "name": "stdout",
          "text": [
            "Logistic Regression with no PCA: Accuracy = 0.9164, Time = 270.70 seconds\n"
          ]
        }
      ]
    },
    {
      "cell_type": "code",
      "source": [
        "pca = PCA(n_components=0.95)\n",
        "X_train_pca = pca.fit_transform(X_train_scaled)\n",
        "X_test_pca = pca.transform(X_test_scaled)"
      ],
      "metadata": {
        "id": "oc8pNP9nnhEd"
      },
      "execution_count": 31,
      "outputs": []
    },
    {
      "cell_type": "code",
      "source": [
        "logisticRegression_pca = LogisticRegression(solver='lbfgs', max_iter=1000)"
      ],
      "metadata": {
        "id": "YgQp8KPvovpo"
      },
      "execution_count": 33,
      "outputs": []
    },
    {
      "cell_type": "code",
      "source": [
        "start_time_pca = time.time()\n",
        "logisticRegression_pca.fit(X_train_pca, y_train)\n",
        "y_pred_pca = logisticRegression_pca.predict(X_test_pca)\n",
        "end_time_pca = time.time()"
      ],
      "metadata": {
        "id": "wKE2wWC5poMR"
      },
      "execution_count": 34,
      "outputs": []
    },
    {
      "cell_type": "code",
      "source": [
        "accuracy_pca = accuracy_score(y_test, y_pred_pca)\n",
        "time_pca = end_time_pca - start_time_pca"
      ],
      "metadata": {
        "id": "qLYRtReDp1j8"
      },
      "execution_count": 35,
      "outputs": []
    },
    {
      "cell_type": "code",
      "source": [
        "print(f\"Logistic Regression with PCA: Accuracy = {accuracy_pca:.4f}, Time = {time_pca:.2f} seconds\")"
      ],
      "metadata": {
        "colab": {
          "base_uri": "https://localhost:8080/"
        },
        "id": "IUK3DeBzqPeH",
        "outputId": "1df474c6-26de-45fa-9470-b376670d781b"
      },
      "execution_count": 36,
      "outputs": [
        {
          "output_type": "stream",
          "name": "stdout",
          "text": [
            "Logistic Regression with PCA: Accuracy = 0.9216, Time = 109.95 seconds\n"
          ]
        }
      ]
    },
    {
      "cell_type": "code",
      "source": [
        "print(f'\\nTime difference: {time_wout_pca - time_pca:.2f} seconds')\n",
        "print(f'Accuracy difference: {accuracy_wout_pca - accuracy_pca:.4f}')"
      ],
      "metadata": {
        "colab": {
          "base_uri": "https://localhost:8080/"
        },
        "id": "yo-VH_Yep91a",
        "outputId": "a8230181-d1e6-43cd-83ac-5bebeb56d56c"
      },
      "execution_count": 39,
      "outputs": [
        {
          "output_type": "stream",
          "name": "stdout",
          "text": [
            "\n",
            "Time difference: 160.75 seconds\n",
            "Accuracy difference: -0.0052\n"
          ]
        }
      ]
    }
  ]
}